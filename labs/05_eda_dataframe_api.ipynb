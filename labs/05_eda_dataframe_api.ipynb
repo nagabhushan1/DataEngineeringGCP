{
 "cells": [
  {
   "cell_type": "markdown",
   "id": "7448637a",
   "metadata": {},
   "source": [
    "# DataAnalytics — PySpark **DataFrame API** \n",
    "\n",
    "This notebook mirrors the analyses from *DataAnalytics.ipynb* but uses **PySpark DataFrame API** .  \n",
    "Assumes the **Gold** layer is available as Parquet at `GCS_BASE/gold/*` **or** as tables/views. The first cell normalizes inputs into three DataFrames:\n",
    "`dim_customers`, `dim_products`, `fact_sales`."
   ]
  },
  {
   "cell_type": "code",
   "execution_count": null,
   "id": "f5b15c18",
   "metadata": {},
   "outputs": [],
   "source": [
    "from pyspark.sql import SparkSession, functions as F\n",
    "from pyspark.sql.window import Window\n",
    "spark = SparkSession.builder.appName(\"gold-analytics-dfapi\").getOrCreate()\n",
    "\n",
    "# Locate sources: prefer tables/views; otherwise read Parquet (set GCS_BASE env accordingly).\n",
    "import os\n",
    "GCS_BASE = os.getenv(\"GCS_BASE\", \"/tmp/dw_medallion\")\n",
    "\n",
    "def get_df(primary_table, fallback_view, parquet_name):\n",
    "    df = None\n",
    "    for name in [primary_table, fallback_view]:\n",
    "        try:\n",
    "            df = spark.table(name)\n",
    "            _ = df.limit(1).count()\n",
    "            return df\n",
    "        except Exception:\n",
    "            pass\n",
    "    # Parquet fallback\n",
    "    path = f\"{GCS_BASE}/gold/{parquet_name}\"\n",
    "    try:\n",
    "        return spark.read.parquet(path)\n",
    "    except Exception as e:\n",
    "        raise RuntimeError(f\"Could not find {primary_table}/{fallback_view} or {path}. Error: {e}\")\n",
    "\n",
    "dim_customers = get_df(\"gold.dim_customers\", \"gold_dim_customers\", \"dim_customers\")\n",
    "dim_products  = get_df(\"gold.dim_products\",  \"gold_dim_products\",  \"dim_products\")\n",
    "fact_sales    = get_df(\"gold.fact_sales\",    \"gold_fact_sales\",    \"fact_sales\")\n",
    "\n",
    "print(\"DFs ready:\", dim_customers.count(), \"customers |\", dim_products.count(), \"products |\", fact_sales.count(), \"fact rows\")"
   ]
  },
  {
   "cell_type": "markdown",
   "id": "7f86f00e",
   "metadata": {},
   "source": [
    "## 02 — Dimensions Exploration"
   ]
  },
  {
   "cell_type": "markdown",
   "id": "cecb67c1",
   "metadata": {},
   "source": [
    "**Unique countries (customer origins).**"
   ]
  },
  {
   "cell_type": "code",
   "execution_count": null,
   "id": "dcf54224",
   "metadata": {},
   "outputs": [],
   "source": [
    "(dim_customers\n",
    " .select(\"country\").distinct()\n",
    " .orderBy(\"country\")\n",
    " .show(50, truncate=False))"
   ]
  },
  {
   "cell_type": "markdown",
   "id": "bc45634b",
   "metadata": {},
   "source": [
    "**Unique category → subcategory → product triples.**"
   ]
  },
  {
   "cell_type": "code",
   "execution_count": null,
   "id": "c68b8ed2",
   "metadata": {},
   "outputs": [],
   "source": [
    "(dim_products\n",
    " .select(\"category\",\"subcategory\",\"product_name\").distinct()\n",
    " .orderBy(\"category\",\"subcategory\",\"product_name\")\n",
    " .show(50, truncate=False))"
   ]
  },
  {
   "cell_type": "markdown",
   "id": "3685b3cf",
   "metadata": {},
   "source": [
    "## 03 — Date Range Exploration"
   ]
  },
  {
   "cell_type": "markdown",
   "id": "a1270bc1",
   "metadata": {},
   "source": [
    "**First & last order date; coverage in months.**"
   ]
  },
  {
   "cell_type": "code",
   "execution_count": null,
   "id": "275c0e35",
   "metadata": {},
   "outputs": [],
   "source": [
    "minmax = fact_sales.select(F.min(\"order_date\").alias(\"first_order_date\"),\n",
    "                           F.max(\"order_date\").alias(\"last_order_date\"))\n",
    "res = (minmax\n",
    "       .withColumn(\"order_range_months\",\n",
    "                   F.floor(F.months_between(F.col(\"last_order_date\"), F.col(\"first_order_date\")))))\n",
    "res.show(truncate=False)"
   ]
  },
  {
   "cell_type": "markdown",
   "id": "cf80fceb",
   "metadata": {},
   "source": [
    "**Youngest & oldest customer (by birthdate) + approximate ages.**"
   ]
  },
  {
   "cell_type": "code",
   "execution_count": null,
   "id": "f66e2119",
   "metadata": {},
   "outputs": [],
   "source": [
    "minmax = dim_customers.select(F.min(\"birthdate\").alias(\"oldest_birthdate\"),\n",
    "                              F.max(\"birthdate\").alias(\"youngest_birthdate\"))\n",
    "res = (minmax\n",
    "       .withColumn(\"oldest_age\",   F.floor(F.months_between(F.current_date(), F.col(\"oldest_birthdate\"))/12))\n",
    "       .withColumn(\"youngest_age\", F.floor(F.months_between(F.current_date(), F.col(\"youngest_birthdate\"))/12)))\n",
    "res.show(truncate=False)"
   ]
  },
  {
   "cell_type": "markdown",
   "id": "dd68ca09",
   "metadata": {},
   "source": [
    "## 04 — Measures Exploration"
   ]
  },
  {
   "cell_type": "markdown",
   "id": "5e56e523",
   "metadata": {},
   "source": [
    "**Total sales, total quantity, average price.**"
   ]
  },
  {
   "cell_type": "code",
   "execution_count": null,
   "id": "2ccd22ff",
   "metadata": {},
   "outputs": [],
   "source": [
    "(fact_sales.agg(F.sum(\"sales_amount\").alias(\"total_sales\"),\n",
    "                F.sum(\"quantity\").alias(\"total_quantity\"),\n",
    "                F.avg(\"price\").alias(\"avg_price\"))\n",
    " .show(truncate=False))"
   ]
  },
  {
   "cell_type": "markdown",
   "id": "11757846",
   "metadata": {},
   "source": [
    "**Total orders (raw & distinct).**"
   ]
  },
  {
   "cell_type": "code",
   "execution_count": null,
   "id": "c0471983",
   "metadata": {},
   "outputs": [],
   "source": [
    "(fact_sales.agg(F.count(\"order_number\").alias(\"total_orders\"),\n",
    "                F.countDistinct(\"order_number\").alias(\"total_orders_distinct\"))\n",
    " .show(truncate=False))"
   ]
  },
  {
   "cell_type": "markdown",
   "id": "bec95b72",
   "metadata": {},
   "source": [
    "**Total products (distinct names).**"
   ]
  },
  {
   "cell_type": "code",
   "execution_count": null,
   "id": "ab7f5ed1",
   "metadata": {},
   "outputs": [],
   "source": [
    "(dim_products.agg(F.countDistinct(\"product_name\").alias(\"total_products\"))\n",
    " .show(truncate=False))"
   ]
  },
  {
   "cell_type": "markdown",
   "id": "5e61f81e",
   "metadata": {},
   "source": [
    "**Total customers (dimension rows) & active customers (placed ≥1 order).**"
   ]
  },
  {
   "cell_type": "code",
   "execution_count": null,
   "id": "c1b397a8",
   "metadata": {},
   "outputs": [],
   "source": [
    "dim_customers.select(F.count(\"customer_key\").alias(\"total_customers\")).show(truncate=False)\n",
    "fact_sales.select(F.countDistinct(\"customer_key\").alias(\"active_customers\")).show(truncate=False)"
   ]
  },
  {
   "cell_type": "markdown",
   "id": "ad986069",
   "metadata": {},
   "source": [
    "**One-row KPI rollup.**"
   ]
  },
  {
   "cell_type": "code",
   "execution_count": null,
   "id": "fed38a9a",
   "metadata": {},
   "outputs": [],
   "source": [
    "from pyspark.sql import functions as F\n",
    "\n",
    "# 1) Aggregate once from each source\n",
    "fs_metrics = fact_sales.agg(\n",
    "    F.sum(\"sales_amount\").cast(\"double\").alias(\"Total Sales\"),\n",
    "    F.sum(\"quantity\").cast(\"double\").alias(\"Total Quantity\"),\n",
    "    F.avg(\"price\").cast(\"double\").alias(\"Average Price\"),\n",
    "    F.countDistinct(\"order_number\").cast(\"double\").alias(\"Total Orders\"),\n",
    ")\n",
    "\n",
    "prod_metrics = dim_products.agg(F.countDistinct(\"product_name\").cast(\"double\").alias(\"Total Products\"))\n",
    "cust_metrics = dim_customers.agg(F.count(\"customer_key\").cast(\"double\").alias(\"Total Customers\"))\n",
    "\n",
    "# 2) Bring them onto one row\n",
    "all_metrics = fs_metrics.crossJoin(prod_metrics).crossJoin(cust_metrics)\n",
    "\n",
    "# 3) Convert the wide row to long (measure_name, measure_value)\n",
    "kpis = all_metrics.selectExpr(\n",
    "    \"stack(6, \"\n",
    "    \"'Total Sales', `Total Sales`, \"\n",
    "    \"'Total Quantity', `Total Quantity`, \"\n",
    "    \"'Average Price', `Average Price`, \"\n",
    "    \"'Total Orders', `Total Orders`, \"\n",
    "    \"'Total Products', `Total Products`, \"\n",
    "    \"'Total Customers', `Total Customers`\"\n",
    "    \") as (measure_name, measure_value)\"\n",
    ")\n",
    "\n",
    "kpis_display = kpis.withColumn(\n",
    "    \"measure_value\",\n",
    "    F.format_number(F.col(\"measure_value\"), 2)  # 2 decimal places\n",
    ")\n",
    "\n",
    "kpis_display.show(truncate=False)"
   ]
  },
  {
   "cell_type": "markdown",
   "id": "37607910",
   "metadata": {},
   "source": [
    "## 05 — Magnitude Analysis"
   ]
  },
  {
   "cell_type": "markdown",
   "id": "cde9fb9b",
   "metadata": {},
   "source": [
    "**Customers by country & gender.**"
   ]
  },
  {
   "cell_type": "code",
   "execution_count": null,
   "id": "dc25fc98",
   "metadata": {},
   "outputs": [],
   "source": [
    "(dim_customers.groupBy(\"country\").agg(F.count(\"customer_key\").alias(\"total_customers\"))\n",
    " .orderBy(F.desc(\"total_customers\"))).show(50, truncate=False)\n",
    "\n",
    "(dim_customers.groupBy(\"gender\").agg(F.count(\"customer_key\").alias(\"total_customers\"))\n",
    " .orderBy(F.desc(\"total_customers\"))).show(50, truncate=False)"
   ]
  },
  {
   "cell_type": "markdown",
   "id": "cdb463f6",
   "metadata": {},
   "source": [
    "**Products by category & average cost by category.**"
   ]
  },
  {
   "cell_type": "code",
   "execution_count": null,
   "id": "3bad6d37",
   "metadata": {},
   "outputs": [],
   "source": [
    "(dim_products.groupBy(\"category\").agg(F.count(\"product_key\").alias(\"total_products\"))\n",
    " .orderBy(F.desc(\"total_products\"))).show(50, truncate=False)\n",
    "\n",
    "(dim_products.groupBy(\"category\").agg(F.avg(\"cost\").alias(\"avg_cost\"))\n",
    " .orderBy(F.desc(\"avg_cost\"))).show(50, truncate=False)"
   ]
  },
  {
   "cell_type": "markdown",
   "id": "d7d87c74",
   "metadata": {},
   "source": [
    "**Revenue by category.**"
   ]
  },
  {
   "cell_type": "code",
   "execution_count": null,
   "id": "1dbc0366",
   "metadata": {},
   "outputs": [],
   "source": [
    "(fact_sales.alias(\"f\")\n",
    " .join(dim_products.alias(\"p\"), F.col(\"p.product_key\")==F.col(\"f.product_key\"), \"left\")\n",
    " .groupBy(\"p.category\").agg(F.sum(\"f.sales_amount\").alias(\"total_revenue\"))\n",
    " .orderBy(F.desc(\"total_revenue\"))\n",
    " .show(50, truncate=False))"
   ]
  },
  {
   "cell_type": "markdown",
   "id": "f95c6c9c",
   "metadata": {},
   "source": [
    "**Revenue by customer.**"
   ]
  },
  {
   "cell_type": "code",
   "execution_count": null,
   "id": "03ee0318",
   "metadata": {},
   "outputs": [],
   "source": [
    "(fact_sales.alias(\"f\")\n",
    " .join(dim_customers.alias(\"c\"), F.col(\"c.customer_key\")==F.col(\"f.customer_key\"), \"left\")\n",
    " .groupBy(\"c.customer_key\",\"c.first_name\",\"c.last_name\")\n",
    " .agg(F.sum(\"f.sales_amount\").alias(\"total_revenue\"))\n",
    " .orderBy(F.desc(\"total_revenue\"))\n",
    " .show(50, truncate=False))"
   ]
  },
  {
   "cell_type": "markdown",
   "id": "a33206a0",
   "metadata": {},
   "source": [
    "**Units sold by country.**"
   ]
  },
  {
   "cell_type": "code",
   "execution_count": null,
   "id": "c17ea481",
   "metadata": {},
   "outputs": [],
   "source": [
    "(fact_sales.alias(\"f\")\n",
    " .join(dim_customers.alias(\"c\"), F.col(\"c.customer_key\")==F.col(\"f.customer_key\"), \"left\")\n",
    " .groupBy(\"c.country\")\n",
    " .agg(F.sum(\"f.quantity\").alias(\"total_sold_items\"))\n",
    " .orderBy(F.desc(\"total_sold_items\"))\n",
    " .show(50, truncate=False))"
   ]
  },
  {
   "cell_type": "markdown",
   "id": "55f4dfc7",
   "metadata": {},
   "source": [
    "## 06 — Ranking Analysis"
   ]
  },
  {
   "cell_type": "markdown",
   "id": "c6157af2",
   "metadata": {},
   "source": [
    "**Top 5 products by revenue (simple and via RANK window).**"
   ]
  },
  {
   "cell_type": "code",
   "execution_count": null,
   "id": "68b78dae",
   "metadata": {},
   "outputs": [],
   "source": [
    "prod_rev = (fact_sales.alias(\"f\")\n",
    "            .join(dim_products.alias(\"p\"), F.col(\"p.product_key\")==F.col(\"f.product_key\"), \"left\")\n",
    "            .groupBy(\"p.product_name\")\n",
    "            .agg(F.sum(\"f.sales_amount\").alias(\"total_revenue\")))\n",
    "\n",
    "prod_rev.orderBy(F.desc(\"total_revenue\")).limit(5).show(truncate=False)\n",
    "\n",
    "w = Window.orderBy(F.desc(\"total_revenue\"))\n",
    "(prod_rev\n",
    " .withColumn(\"rank_products\", F.rank().over(w))\n",
    " .filter(F.col(\"rank_products\") <= 5)\n",
    " .orderBy(\"rank_products\",\"product_name\")\n",
    " .show(truncate=False))"
   ]
  },
  {
   "cell_type": "markdown",
   "id": "238f7c04",
   "metadata": {},
   "source": [
    "**Bottom 5 products by revenue; Top 10 customers by revenue; 3 customers with fewest orders.**"
   ]
  },
  {
   "cell_type": "code",
   "execution_count": null,
   "id": "fb5c2417",
   "metadata": {},
   "outputs": [],
   "source": [
    "prod_rev.orderBy(F.asc(\"total_revenue\")).limit(5).show(truncate=False)\n",
    "\n",
    "cust_rev = (fact_sales.alias(\"f\")\n",
    "            .join(dim_customers.alias(\"c\"), F.col(\"c.customer_key\")==F.col(\"f.customer_key\"), \"left\")\n",
    "            .groupBy(\"c.customer_key\",\"c.first_name\",\"c.last_name\")\n",
    "            .agg(F.sum(\"f.sales_amount\").alias(\"total_revenue\"))\n",
    "           )\n",
    "cust_rev.orderBy(F.desc(\"total_revenue\")).limit(10).show(truncate=False)\n",
    "\n",
    "cust_orders = (fact_sales.groupBy(\"customer_key\")\n",
    "               .agg(F.countDistinct(\"order_number\").alias(\"total_orders\")))\n",
    "(cust_orders\n",
    " .join(dim_customers, \"customer_key\", \"left\")\n",
    " .orderBy(F.asc(\"total_orders\"))\n",
    " .select(\"customer_key\",\"first_name\",\"last_name\",\"total_orders\")\n",
    " .limit(3)\n",
    " .show(truncate=False))"
   ]
  },
  {
   "cell_type": "markdown",
   "id": "5dd0fda7",
   "metadata": {},
   "source": [
    "## 07 — Change Over Time Analysis"
   ]
  },
  {
   "cell_type": "markdown",
   "id": "f57cad32",
   "metadata": {},
   "source": [
    "**Year/Month rollup and month truncation & labels.**"
   ]
  },
  {
   "cell_type": "code",
   "execution_count": null,
   "id": "ab3cd50c",
   "metadata": {},
   "outputs": [],
   "source": [
    "(fact_sales\n",
    " .filter(F.col(\"order_date\").isNotNull())\n",
    " .groupBy(F.year(\"order_date\").alias(\"order_year\"),\n",
    "          F.month(\"order_date\").alias(\"order_month\"))\n",
    " .agg(F.sum(\"sales_amount\").alias(\"total_sales\"),\n",
    "      F.countDistinct(\"customer_key\").alias(\"total_customers\"),\n",
    "      F.sum(\"quantity\").alias(\"total_quantity\"))\n",
    " .orderBy(\"order_year\",\"order_month\")\n",
    " .show(100, truncate=False))\n",
    "\n",
    "(fact_sales\n",
    " .filter(F.col(\"order_date\").isNotNull())\n",
    " .groupBy(F.date_trunc(\"month\",\"order_date\").alias(\"order_month\"))\n",
    " .agg(F.sum(\"sales_amount\").alias(\"total_sales\"),\n",
    "      F.countDistinct(\"customer_key\").alias(\"total_customers\"),\n",
    "      F.sum(\"quantity\").alias(\"total_quantity\"))\n",
    " .orderBy(\"order_month\")\n",
    " .show(100, truncate=False))\n",
    "\n",
    "(fact_sales\n",
    " .filter(F.col(\"order_date\").isNotNull())\n",
    " .groupBy(F.date_format(\"order_date\",\"yyyy-MMM\").alias(\"order_month_label\"))\n",
    " .agg(F.sum(\"sales_amount\").alias(\"total_sales\"),\n",
    "      F.countDistinct(\"customer_key\").alias(\"total_customers\"),\n",
    "      F.sum(\"quantity\").alias(\"total_quantity\"))\n",
    " .orderBy(\"order_month_label\")\n",
    " .show(100, truncate=False))"
   ]
  },
  {
   "cell_type": "markdown",
   "id": "f23d03d1",
   "metadata": {},
   "source": [
    "## 08 — Cumulative Analysis"
   ]
  },
  {
   "cell_type": "markdown",
   "id": "645f1117",
   "metadata": {},
   "source": [
    "**Yearly sales with running total and moving average price.**"
   ]
  },
  {
   "cell_type": "code",
   "execution_count": null,
   "id": "5527da46",
   "metadata": {},
   "outputs": [],
   "source": [
    "yearly = (fact_sales\n",
    "          .filter(F.col(\"order_date\").isNotNull())\n",
    "          .groupBy(F.date_trunc(\"year\",\"order_date\").alias(\"order_year\"))\n",
    "          .agg(F.sum(\"sales_amount\").alias(\"total_sales\"),\n",
    "               F.avg(\"price\").alias(\"avg_price\"))\n",
    "         )\n",
    "\n",
    "w = Window.orderBy(\"order_year\").rowsBetween(Window.unboundedPreceding, Window.currentRow)\n",
    "(yearly\n",
    " .withColumn(\"running_total_sales\", F.sum(\"total_sales\").over(w))\n",
    " .withColumn(\"moving_average_price\", F.avg(\"avg_price\").over(w))\n",
    " .orderBy(\"order_year\")\n",
    " .show(100, truncate=False))"
   ]
  },
  {
   "cell_type": "markdown",
   "id": "93e35024",
   "metadata": {},
   "source": [
    "## 09 — Performance Analysis (YoY & vs Average)"
   ]
  },
  {
   "cell_type": "markdown",
   "id": "79d17072",
   "metadata": {},
   "source": [
    "**Yearly product sales with YoY deltas and above/below-average flags.**"
   ]
  },
  {
   "cell_type": "code",
   "execution_count": null,
   "id": "068d065c",
   "metadata": {},
   "outputs": [],
   "source": [
    "yps = (fact_sales.alias(\"f\")\n",
    "       .join(dim_products.alias(\"p\"), F.col(\"f.product_key\")==F.col(\"p.product_key\"), \"left\")\n",
    "       .filter(F.col(\"f.order_date\").isNotNull())\n",
    "       .groupBy(F.year(\"f.order_date\").alias(\"order_year\"), F.col(\"p.product_name\"))\n",
    "       .agg(F.sum(\"f.sales_amount\").alias(\"current_sales\"))\n",
    "      )\n",
    "\n",
    "w_prod = Window.partitionBy(\"product_name\").orderBy(\"order_year\")\n",
    "(yps\n",
    " .withColumn(\"avg_sales\", F.avg(\"current_sales\").over(Window.partitionBy(\"product_name\")))\n",
    " .withColumn(\"diff_avg\", F.col(\"current_sales\") - F.avg(\"current_sales\").over(Window.partitionBy(\"product_name\")))\n",
    " .withColumn(\"avg_change\", F.when(F.col(\"diff_avg\")>0,\"Above Avg\").when(F.col(\"diff_avg\")<0,\"Below Avg\").otherwise(\"Avg\"))\n",
    " .withColumn(\"py_sales\", F.lag(\"current_sales\").over(w_prod))\n",
    " .withColumn(\"diff_py\", F.col(\"current_sales\") - F.col(\"py_sales\"))\n",
    " .withColumn(\"py_change\", F.when(F.col(\"diff_py\")>0,\"Increase\").when(F.col(\"diff_py\")<0,\"Decrease\").otherwise(\"No Change\"))\n",
    " .orderBy(\"product_name\",\"order_year\")\n",
    " .show(200, truncate=False))"
   ]
  },
  {
   "cell_type": "markdown",
   "id": "6ad9658b",
   "metadata": {},
   "source": [
    "## 10 — Data Segmentation"
   ]
  },
  {
   "cell_type": "markdown",
   "id": "308c0f68",
   "metadata": {},
   "source": [
    "**Product cost bands (counts by segment).**"
   ]
  },
  {
   "cell_type": "code",
   "execution_count": null,
   "id": "b0538124",
   "metadata": {},
   "outputs": [],
   "source": [
    "segments = (dim_products\n",
    "            .withColumn(\"cost_range\",\n",
    "                F.when(F.col(\"cost\") < 100, \"Below 100\")\n",
    "                 .when((F.col(\"cost\") >= 100) & (F.col(\"cost\") <= 500), \"100-500\")\n",
    "                 .when((F.col(\"cost\") > 500) & (F.col(\"cost\") <= 1000), \"500-1000\")\n",
    "                 .otherwise(\"Above 1000\"))\n",
    "           )\n",
    "(segments.groupBy(\"cost_range\").agg(F.count(\"product_key\").alias(\"total_products\"))\n",
    " .orderBy(F.desc(\"total_products\"))\n",
    " .show(truncate=False))"
   ]
  },
  {
   "cell_type": "markdown",
   "id": "24729434",
   "metadata": {},
   "source": [
    "**Customer tenure & spend segmentation (VIP, Regular, New).**"
   ]
  },
  {
   "cell_type": "code",
   "execution_count": null,
   "id": "cda6f6f8",
   "metadata": {},
   "outputs": [],
   "source": [
    "cust_spend = (fact_sales\n",
    "              .groupBy(\"customer_key\")\n",
    "              .agg(F.sum(\"sales_amount\").alias(\"total_spending\"),\n",
    "                   F.min(\"order_date\").alias(\"first_order\"),\n",
    "                   F.max(\"order_date\").alias(\"last_order\"),\n",
    "                   F.floor(F.months_between(F.max(\"order_date\"), F.min(\"order_date\"))).alias(\"lifespan_months\"))\n",
    "             )\n",
    "seg = (cust_spend\n",
    "       .withColumn(\"customer_segment\",\n",
    "           F.when( (F.col(\"lifespan_months\")>=12) & (F.col(\"total_spending\")>5000), \"VIP\")\n",
    "            .when( (F.col(\"lifespan_months\")>=12) & (F.col(\"total_spending\")<=5000), \"Regular\")\n",
    "            .otherwise(\"New\"))\n",
    "      )\n",
    "(seg.groupBy(\"customer_segment\").agg(F.count(\"customer_key\").alias(\"total_customers\"))\n",
    " .orderBy(F.desc(\"total_customers\"))\n",
    " .show(truncate=False))"
   ]
  },
  {
   "cell_type": "markdown",
   "id": "53c98aac",
   "metadata": {},
   "source": [
    "## 11 — Part-to-Whole Analysis"
   ]
  },
  {
   "cell_type": "markdown",
   "id": "77b03a7f",
   "metadata": {},
   "source": [
    "**Category share of total sales.**"
   ]
  },
  {
   "cell_type": "code",
   "execution_count": null,
   "id": "b4d2ae9d",
   "metadata": {},
   "outputs": [],
   "source": [
    "cat_sales = (fact_sales.alias(\"f\")\n",
    "             .join(dim_products.alias(\"p\"), F.col(\"p.product_key\")==F.col(\"f.product_key\"), \"left\")\n",
    "             .groupBy(\"p.category\").agg(F.sum(\"f.sales_amount\").alias(\"total_sales\")))\n",
    "\n",
    "w_all = Window.rowsBetween(Window.unboundedPreceding, Window.unboundedFollowing)\n",
    "res = (cat_sales\n",
    "       .withColumn(\"overall_sales\", F.sum(\"total_sales\").over(w_all))\n",
    "       .withColumn(\"percentage_of_total\", F.round( (F.col(\"total_sales\")/F.col(\"overall_sales\"))*100, 2))\n",
    "       .orderBy(F.desc(\"total_sales\")))\n",
    "res.show(truncate=False)"
   ]
  }
 ],
 "metadata": {
  "language_info": {
   "name": "python"
  }
 },
 "nbformat": 4,
 "nbformat_minor": 5
}
