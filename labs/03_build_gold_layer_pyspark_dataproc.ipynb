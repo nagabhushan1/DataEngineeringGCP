{
 "cells": [
  {
   "cell_type": "markdown",
   "id": "fb2574df",
   "metadata": {},
   "source": [
    "# 03 — Build Gold Layer (PySpark on Dataproc, No Hive Required)"
   ]
  },
  {
   "cell_type": "code",
   "execution_count": null,
   "id": "328eb9c6",
   "metadata": {},
   "outputs": [],
   "source": [
    "import os\n",
    "from pyspark.sql import SparkSession, functions as F\n",
    "from pyspark.sql.window import Window\n",
    "spark = SparkSession.builder.appName(\"gold-dataproc\").getOrCreate()\n",
    "GCS_BASE  = os.getenv(\"GCS_BASE\", \"/user/nb\")\n",
    "print(\"GCS_BASE:\", GCS_BASE)"
   ]
  },
  {
   "cell_type": "markdown",
   "id": "745b7ba8",
   "metadata": {},
   "source": [
    "### View: `gold.dim_customers`"
   ]
  },
  {
   "cell_type": "markdown",
   "id": "a03a7098",
   "metadata": {},
   "source": [
    "**Modeling decisions & Why**\n",
    "- Surrogate key via `row_number`.\n",
    "- Enrich with ERP demographics and location.\n",
    "- SCD‑1 attributes.\n",
    "\n",
    "**Columns:**\n",
    "\n",
    "| Column | Type | Description |\n",
    "|---|---|---|\n",
    "| `customer_key` | `int` | Surrogate key (row_number) |\n",
    "| `customer_id` | `int` | Natural key from Silver |\n",
    "| `customer_number` | `string` | Business key |\n",
    "| `first_name` | `string` | Customer first name |\n",
    "| `last_name` | `string` | Customer last name |\n",
    "| `country` | `string` | Country label |\n",
    "| `marital_status` | `string` | SCD‑1 attribute |\n",
    "| `gender` | `string` | SCD‑1 attribute, fallback to ERP when n/a |\n",
    "| `birthdate` | `date` | From ERP demographics |\n",
    "| `create_date` | `date` | Customer create date |"
   ]
  },
  {
   "cell_type": "code",
   "execution_count": null,
   "id": "ac927206",
   "metadata": {},
   "outputs": [],
   "source": [
    "ci = spark.read.parquet(f\"{GCS_BASE}/silver/crm_cust_info\")\n",
    "ca = spark.read.parquet(f\"{GCS_BASE}/silver/erp_cust_az12\")\n",
    "la = spark.read.parquet(f\"{GCS_BASE}/silver/erp_loc_a101\")\n",
    "dim_customers = (ci.alias(\"ci\")\n",
    "   .join(ca.alias(\"ca\"), F.col(\"ci.cst_key\")==F.col(\"ca.cid\"), \"left\")\n",
    "   .join(la.alias(\"la\"), F.col(\"ci.cst_key\")==F.col(\"la.cid\"), \"left\")\n",
    "   .selectExpr(\n",
    "      \"ci.cst_id as customer_id\",\n",
    "      \"ci.cst_key as customer_number\",\n",
    "      \"ci.cst_firstname as first_name\",\n",
    "      \"ci.cst_lastname as last_name\",\n",
    "      \"la.cntry as country\",\n",
    "      \"ci.cst_marital_status as marital_status\",\n",
    "      \"case when ci.cst_gndr <> 'n/a' then ci.cst_gndr else coalesce(ca.gen, 'n/a') end as gender\",\n",
    "      \"ca.bdate as birthdate\",\n",
    "      \"ci.cst_create_date as create_date\"\n",
    "   ))\n",
    "dim_customers = dim_customers.withColumn(\"customer_key\", F.row_number().over(Window.orderBy(\"customer_id\")))\n",
    "dim_customers = dim_customers.select(\"customer_key\",\"customer_id\",\"customer_number\",\"first_name\",\"last_name\",\"country\",\"marital_status\",\"gender\",\"birthdate\",\"create_date\")\n",
    "out_path = f\"{GCS_BASE}/gold/dim_customers\"\n",
    "dim_customers.write.mode(\"overwrite\").parquet(out_path)\n",
    "spark.read.parquet(out_path).createOrReplaceTempView(\"gold_dim_customers\")\n",
    "print(\"Rows:\", spark.read.parquet(out_path).count())\n",
    "spark.sql(\"SELECT * FROM gold_dim_customers LIMIT 10\").show(truncate=False)"
   ]
  },
  {
   "cell_type": "markdown",
   "id": "b5a6f492",
   "metadata": {},
   "source": [
    "### View: `gold.dim_products`"
   ]
  },
  {
   "cell_type": "markdown",
   "id": "b598dc3e",
   "metadata": {},
   "source": [
    "**Modeling decisions & Why**\n",
    "- Surrogate key via `row_number`.\n",
    "- Category join for readable labels.\n",
    "- Keep current products only (`prd_end_dt IS NULL`).\n",
    "\n",
    "**Columns:**\n",
    "\n",
    "| Column | Type | Description |\n",
    "|---|---|---|\n",
    "| `product_key` | `int` | Surrogate key (row_number) |\n",
    "| `product_id` | `int` | Natural key |\n",
    "| `product_number` | `string` | Business key |\n",
    "| `product_name` | `string` | Name |\n",
    "| `category_id` | `string` | Derived from prd_key |\n",
    "| `category` | `string` | Category label |\n",
    "| `subcategory` | `string` | Subcategory label |\n",
    "| `maintenance` | `string` | Maintenance attribute |\n",
    "| `cost` | `int` | Unit cost |\n",
    "| `product_line` | `string` | Decoded label |\n",
    "| `start_date` | `date` | Start date |"
   ]
  },
  {
   "cell_type": "code",
   "execution_count": null,
   "id": "88194d71",
   "metadata": {},
   "outputs": [],
   "source": [
    "pn = spark.read.parquet(f\"{GCS_BASE}/silver/crm_prd_info\")\n",
    "pc = spark.read.parquet(f\"{GCS_BASE}/silver/erp_px_cat_g1v2\")\n",
    "dim_products = (pn.alias(\"pn\").join(pc.alias(\"pc\"), F.col(\"pn.cat_id\")==F.col(\"pc.id\"), \"left\")\n",
    "   .where(F.col(\"pn.prd_end_dt\").isNull())\n",
    "   .selectExpr(\n",
    "      \"pn.prd_id as product_id\",\n",
    "      \"pn.prd_key as product_number\",\n",
    "      \"pn.prd_nm as product_name\",\n",
    "      \"pn.cat_id as category_id\",\n",
    "      \"pc.cat as category\",\n",
    "      \"pc.subcat as subcategory\",\n",
    "      \"pc.maintenance as maintenance\",\n",
    "      \"pn.prd_cost as cost\",\n",
    "      \"pn.prd_line as product_line\",\n",
    "      \"pn.prd_start_dt as start_date\"\n",
    "   ))\n",
    "from pyspark.sql.window import Window\n",
    "dim_products = dim_products.withColumn(\"product_key\", F.row_number().over(Window.orderBy(\"start_date\",\"product_number\")))\n",
    "dim_products = dim_products.select(\"product_key\",\"product_id\",\"product_number\",\"product_name\",\"category_id\",\"category\",\"subcategory\",\"maintenance\",\"cost\",\"product_line\",\"start_date\")\n",
    "out_path = f\"{GCS_BASE}/gold/dim_products\"\n",
    "dim_products.write.mode(\"overwrite\").parquet(out_path)\n",
    "spark.read.parquet(out_path).createOrReplaceTempView(\"gold_dim_products\")\n",
    "print(\"Rows:\", spark.read.parquet(out_path).count())\n",
    "spark.sql(\"SELECT * FROM gold_dim_products LIMIT 10\").show(truncate=False)"
   ]
  },
  {
   "cell_type": "markdown",
   "id": "aa65d168",
   "metadata": {},
   "source": [
    "### View: `gold.fact_sales`"
   ]
  },
  {
   "cell_type": "markdown",
   "id": "4909eb24",
   "metadata": {},
   "source": [
    "**Modeling decisions & Why**\n",
    "- Grain: order line (order × product × customer).\n",
    "- Measures from Silver; dims are SCD‑1.\n",
    "- Natural-key join; surrogate keys exposed for BI.\n",
    "\n",
    "**Columns:**\n",
    "\n",
    "| Column | Type | Description |\n",
    "|---|---|---|\n",
    "| `order_number` | `string` | Order identifier (line grain) |\n",
    "| `product_key` | `int` | FK to dim_products |\n",
    "| `customer_key` | `int` | FK to dim_customers |\n",
    "| `order_date` | `date` | Order date |\n",
    "| `shipping_date` | `date` | Ship date |\n",
    "| `due_date` | `date` | Due date |\n",
    "| `sales_amount` | `int` | Extended amount |\n",
    "| `quantity` | `int` | Units sold |\n",
    "| `price` | `int` | Unit price |"
   ]
  },
  {
   "cell_type": "code",
   "execution_count": null,
   "id": "058a500f",
   "metadata": {},
   "outputs": [],
   "source": [
    "sd = spark.read.parquet(f\"{GCS_BASE}/silver/crm_sales_details\")\n",
    "dim_products = spark.read.parquet(f\"{GCS_BASE}/gold/dim_products\")\n",
    "dim_customers = spark.read.parquet(f\"{GCS_BASE}/gold/dim_customers\")\n",
    "fact_sales = (sd.alias(\"sd\")\n",
    "   .join(dim_products.alias(\"pr\"), F.col(\"sd.sls_prd_key\")==F.col(\"pr.product_number\"), \"left\")\n",
    "   .join(dim_customers.alias(\"cu\"), F.col(\"sd.sls_cust_id\")==F.col(\"cu.customer_id\"), \"left\")\n",
    "   .selectExpr(\n",
    "      \"sd.sls_ord_num  as order_number\",\n",
    "      \"pr.product_key  as product_key\",\n",
    "      \"cu.customer_key as customer_key\",\n",
    "      \"sd.sls_order_dt as order_date\",\n",
    "      \"sd.sls_ship_dt  as shipping_date\",\n",
    "      \"sd.sls_due_dt   as due_date\",\n",
    "      \"sd.sls_sales    as sales_amount\",\n",
    "      \"sd.sls_quantity as quantity\",\n",
    "      \"sd.sls_price    as price\"\n",
    "   ))\n",
    "out_path = f\"{GCS_BASE}/gold/fact_sales\"\n",
    "fact_sales.write.mode(\"overwrite\").parquet(out_path)\n",
    "spark.read.parquet(out_path).createOrReplaceTempView(\"gold_fact_sales\")\n",
    "print(\"Rows:\", spark.read.parquet(out_path).count())\n",
    "spark.sql(\"SELECT * FROM gold_fact_sales LIMIT 10\").show(truncate=False)"
   ]
  },
  {
   "cell_type": "markdown",
   "id": "afa047f5",
   "metadata": {},
   "source": [
    "## Summary\n",
    "- Gold Parquet written to `GCS_BASE/gold/*`; temp views registered for BI/SQL."
   ]
  }
 ],
 "metadata": {
  "language_info": {
   "name": "python"
  }
 },
 "nbformat": 4,
 "nbformat_minor": 5
}
