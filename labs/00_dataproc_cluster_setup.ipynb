{
 "cells": [
  {
   "cell_type": "markdown",
   "id": "0e2a9ee2",
   "metadata": {},
   "source": [
    "# Google Cloud Dataproc Cluster Setup for Multi-User Spark Training\n",
    "\n",
    "This notebook contains **step-by-step commands** and explanations to provision a Dataproc cluster that works well for **many concurrent learners running small Spark jobs**. It also includes a brief note on how autoscaling can save costs.\n"
   ]
  },
  {
   "cell_type": "markdown",
   "id": "c4385e56",
   "metadata": {},
   "source": [
    "## 📌 What is Google Cloud Dataproc?\n",
    "\n",
    "Google Cloud Dataproc is a **fully managed Apache Spark and Hadoop service**. It provisions clusters quickly, configures components, and integrates with GCS, BigQuery, and other GCP services.\n",
    "\n",
    "**Key features**:\n",
    "- Managed Spark/Hadoop/Hive deployments\n",
    "- Fast cluster startup\n",
    "- Component Gateway (easy access to web UIs like Jupyter, YARN, Spark)\n",
    "- Tight integrations with GCS & BigQuery\n",
    "- Autoscaling support\n"
   ]
  },
  {
   "cell_type": "markdown",
   "id": "2d9d7c94",
   "metadata": {},
   "source": [
    "## 📊 Cluster Architecture\n",
    "\n",
    "```\n",
    "                +-----------------------------+\n",
    "                |         Master Node         |\n",
    "                |  e2-standard-4 (4 vCPU)     |\n",
    "                |  Jupyter + Spark Driver     |\n",
    "                +--------------+--------------+\n",
    "                               |\n",
    "          ---------------------------------------------\n",
    "          |            |            |            |\n",
    "+---------+  +---------+  +---------+  +---------+\n",
    "| Worker 1|  | Worker 2|  | Worker 3|  | Worker N|\n",
    "| e2-std-2|  | e2-std-2|  | e2-std-2|  | e2-std-2|\n",
    "| 1 exec  |  | 1 exec  |  | 1 exec  |  | 1 exec  |\n",
    "+---------+  +---------+  +---------+  +---------+\n",
    "     |            |            |            |\n",
    "     -----------------------------------------\n",
    "                    Google Cloud Storage\n",
    "                (Staging & Temporary Buckets)\n",
    "```\n"
   ]
  }
